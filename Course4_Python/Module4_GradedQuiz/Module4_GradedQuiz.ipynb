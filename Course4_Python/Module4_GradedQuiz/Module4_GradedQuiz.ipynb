{
  "metadata": {
    "kernelspec": {
      "name": "python",
      "display_name": "Python (Pyodide)",
      "language": "python"
    },
    "language_info": {
      "codemirror_mode": {
        "name": "python",
        "version": 3
      },
      "file_extension": ".py",
      "mimetype": "text/x-python",
      "name": "python",
      "nbconvert_exporter": "python",
      "pygments_lexer": "ipython3",
      "version": "3.8"
    }
  },
  "nbformat_minor": 4,
  "nbformat": 4,
  "cells": [
    {
      "cell_type": "code",
      "source": "import numpy as np",
      "metadata": {
        "trusted": true
      },
      "outputs": [],
      "execution_count": 1
    },
    {
      "cell_type": "code",
      "source": "a=np.array([0,1]) \nprint(a)\nb=np.array([1,0]) \nprint(b)\nnp.dot(a,b) ",
      "metadata": {
        "trusted": true
      },
      "outputs": [
        {
          "name": "stdout",
          "text": "[0 1]\n[1 0]\n",
          "output_type": "stream"
        },
        {
          "execution_count": 3,
          "output_type": "execute_result",
          "data": {
            "text/plain": "0"
          },
          "metadata": {}
        }
      ],
      "execution_count": 3
    },
    {
      "cell_type": "code",
      "source": "X=np.array([[1,0,1],[2,2,2]]) \nprint(X)\nout=X[0:2,2]\nprint(out)\nprint(X[0:2,1])",
      "metadata": {
        "trusted": true
      },
      "outputs": [
        {
          "name": "stdout",
          "text": "[[1 0 1]\n [2 2 2]]\n[1 2]\n[0 2]\n",
          "output_type": "stream"
        }
      ],
      "execution_count": 8
    },
    {
      "cell_type": "code",
      "source": "X=np.array([[1,0],[0,1]]) \nprint(X)\nY=np.array([[2,1],[1,2]]) \nprint(Y)\nZ=np.dot(X,Y) \nZ",
      "metadata": {
        "trusted": true
      },
      "outputs": [
        {
          "name": "stdout",
          "text": "[[1 0]\n [0 1]]\n[[2 1]\n [1 2]]\n",
          "output_type": "stream"
        },
        {
          "execution_count": 10,
          "output_type": "execute_result",
          "data": {
            "text/plain": "array([[2, 1],\n       [1, 2]])"
          },
          "metadata": {}
        }
      ],
      "execution_count": 10
    },
    {
      "cell_type": "code",
      "source": "with open(\"Example1.txt\",\"r\") as file1: \n\n     file_stuff=file1.readline() \n\n\nprint(file_stuff) ",
      "metadata": {
        "trusted": true
      },
      "outputs": [
        {
          "name": "stdout",
          "text": "This is line 1\n\n",
          "output_type": "stream"
        }
      ],
      "execution_count": 11
    },
    {
      "cell_type": "code",
      "source": "with open(\"Example.txt\",\"a\") as writefile: \n\n       writefile.write(\"This is line A\\n\") \n\n       writefile.write(\"This is line B\\n\") ",
      "metadata": {
        "trusted": true
      },
      "outputs": [],
      "execution_count": 12
    },
    {
      "cell_type": "code",
      "source": "with open(\"Example.txt\",\"a\") as writefile: \n\n       writefile.write(\"This is line C\\n\") \n\n       writefile.write(\"This is line B\\n\") ",
      "metadata": {
        "trusted": true
      },
      "outputs": [],
      "execution_count": 13
    },
    {
      "cell_type": "code",
      "source": "with open(\"Example3.txt\",\"w\") as file1: \n\nfile1.write(\"This is line C\\n\") ",
      "metadata": {
        "trusted": true
      },
      "outputs": [
        {
          "ename": "<class 'IndentationError'>",
          "evalue": "expected an indented block after 'with' statement on line 1 (<ipython-input-14-a35de4960d82>, line 3)",
          "traceback": [
            "\u001b[0;36m  Cell \u001b[0;32mIn[14], line 3\u001b[0;36m\u001b[0m\n\u001b[0;31m    file1.write(\"This is line C\\n\")\u001b[0m\n\u001b[0m    ^\u001b[0m\n\u001b[0;31mIndentationError\u001b[0m\u001b[0;31m:\u001b[0m expected an indented block after 'with' statement on line 1\n"
          ],
          "output_type": "error"
        }
      ],
      "execution_count": 14
    },
    {
      "cell_type": "code",
      "source": "",
      "metadata": {
        "trusted": true
      },
      "outputs": [],
      "execution_count": null
    }
  ]
}